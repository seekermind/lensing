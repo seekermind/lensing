{
 "cells": [
  {
   "cell_type": "markdown",
   "metadata": {},
   "source": [
    "**Author:** Anowar Shajib"
   ]
  },
  {
   "cell_type": "code",
   "execution_count": 1,
   "metadata": {
    "pycharm": {
     "name": "#%%\n"
    }
   },
   "outputs": [],
   "source": [
    "import matplotlib.pyplot as plt\n",
    "import numpy as np\n",
    "import copy\n",
    "from ipywidgets import interactive\n",
    "\n",
    "from lenstronomy.LensModel.lens_model import LensModel\n",
    "from lenstronomy.LightModel.light_model import LightModel\n",
    "from lenstronomy.ImSim.image2source_mapping import Image2SourceMapping\n",
    "from lenstronomy.Util.param_util import phi_q2_ellipticity"
   ]
  },
  {
   "cell_type": "markdown",
   "metadata": {},
   "source": [
    "## function definitions"
   ]
  },
  {
   "cell_type": "code",
   "execution_count": 2,
   "metadata": {
    "pycharm": {
     "name": "#%%\n"
    }
   },
   "outputs": [],
   "source": [
    "def make_lens_image(\n",
    "    theta_E=1.,\n",
    "    gamma=2.,\n",
    "    phi_lens=180, \n",
    "    q_lens=0.5,\n",
    "    center_x_lens=0.,\n",
    "    center_y_lens=0.,\n",
    "    x_source=0.2, y_source=0.2, \n",
    "    amp_source=10,\n",
    "    phi_source=180, q_source=0.2,\n",
    "    R_sersic_source=0.2,\n",
    "    lens_galaxy=True):\n",
    "    \"\"\"\n",
    "    \"\"\"\n",
    "            \n",
    "    lens_model_list = ['EPL']\n",
    "    \n",
    "    if lens_galaxy:\n",
    "        mult = 1\n",
    "    else:\n",
    "        mult = 1e-6\n",
    "    \n",
    "    e1_lens, e2_lens = phi_q2_ellipticity(phi_lens*np.pi/180, q_lens)\n",
    "            \n",
    "    kwargs_lens = [{'theta_E': theta_E * mult,\n",
    "                    'gamma': gamma, \n",
    "                    'e1': e1_lens,\n",
    "                    'e2': e2_lens, \n",
    "                    'center_x': center_x_lens,\n",
    "                    'center_y': center_y_lens}]\n",
    "\n",
    "    lens_model = LensModel(lens_model_list=lens_model_list)\n",
    "    \n",
    "    lens_light_model = LightModel(['SERSIC_ELLIPSE'])\n",
    "\n",
    "    kwargs_lens_light = [{'amp': 16, \n",
    "                          'R_sersic': 0.6 * theta_E, \n",
    "                          'n_sersic': 4.0, \n",
    "                          'e1': e1_lens, \n",
    "                          'e2': e2_lens, \n",
    "                          'center_x': center_x_lens, \n",
    "                          'center_y': center_y_lens}]\n",
    "    \n",
    "    \n",
    "    source_model_list = ['SERSIC_ELLIPSE']\n",
    "    e1, e2 = phi_q2_ellipticity(phi_source*np.pi/180, q_source)\n",
    "    kwargs_sersic_ellipse =  {'amp': amp_source,\n",
    "                              'R_sersic': R_sersic_source,\n",
    "                              'n_sersic': 1.0,\n",
    "                              'e1': e1, 'e2': e2,\n",
    "                              'center_x': x_source,\n",
    "                              'center_y': y_source}\n",
    "\n",
    "\n",
    "    kwargs_source = [kwargs_sersic_ellipse]\n",
    "    source_model = LightModel(light_model_list=source_model_list)\n",
    "    \n",
    "    \n",
    "    w = 5\n",
    "    N = 100\n",
    "    x, y = np.meshgrid(np.linspace(-w, w, N), np.linspace(-w, w, N))\n",
    "    \n",
    "    lens_light = lens_light_model.surface_brightness(x, y, kwargs_lens_light).reshape((N, N))\n",
    "    \n",
    "    image_mapper = Image2SourceMapping(lens_model, source_model)\n",
    "    image = image_mapper.image_flux_joint(x.flatten(), y.flatten(), kwargs_lens,\n",
    "                              kwargs_source).reshape((N, N))\n",
    "    image[image < 0] = 1e-6\n",
    "    \n",
    "    if lens_galaxy:\n",
    "        image += lens_light\n",
    "        \n",
    "    return image\n",
    "\n",
    "\n",
    "def plot_lens_simulation(\n",
    "    theta_E=1.,\n",
    "    gamma=2.,\n",
    "    phi_lens=180, \n",
    "    q_lens=0.5,\n",
    "    center_x_lens=0.,\n",
    "    center_y_lens=0.,\n",
    "    x_source=0.2, y_source=0.2, \n",
    "    amp_source=10,\n",
    "    phi_source=180, q_source=0.2,\n",
    "    R_sersic_source=0.2,\n",
    "    lens_galaxy=True):\n",
    "    \"\"\"\n",
    "    \"\"\"\n",
    "    image = make_lens_image(\n",
    "        theta_E,\n",
    "        gamma,\n",
    "        phi_lens, \n",
    "        q_lens,\n",
    "        center_x_lens,\n",
    "        center_y_lens,\n",
    "        x_source, y_source, \n",
    "        amp_source,\n",
    "        phi_source, q_source,\n",
    "        R_sersic_source, lens_galaxy\n",
    "    )\n",
    "    \n",
    "    fig, axes = plt.subplots(1, 1, figsize=(15,5))\n",
    "\n",
    "    axes.matshow(np.log10(image), origin='lower', cmap='cubehelix', vmin=0, vmax=3)\n",
    "    \n",
    "    plt.show()"
   ]
  },
  {
   "cell_type": "markdown",
   "metadata": {},
   "source": [
    "## Simulating a lens system"
   ]
  },
  {
   "cell_type": "markdown",
   "metadata": {},
   "source": [
    "Move around the sliders to see how the lensing system changes depending on the lens galaxy and source galaxy's properties."
   ]
  },
  {
   "cell_type": "code",
   "execution_count": 3,
   "metadata": {
    "pycharm": {
     "name": "#%%\n"
    },
    "scrolled": false
   },
   "outputs": [
    {
     "data": {
      "application/vnd.jupyter.widget-view+json": {
       "model_id": "87a44618cf134365b519d147c85b3a60",
       "version_major": 2,
       "version_minor": 0
      },
      "text/plain": [
       "interactive(children=(FloatSlider(value=1.0, description='theta_E', max=3.0, min=0.02, step=0.02), FloatSlider…"
      ]
     },
     "execution_count": 3,
     "metadata": {},
     "output_type": "execute_result"
    }
   ],
   "source": [
    "interactive_plot = interactive(plot_lens_simulation, \n",
    "                               theta_E=(0.02, 3., 0.02),\n",
    "                               gamma=(1.6, 2.4, 0.01),\n",
    "                               phi_lens=(0, 90, 1), \n",
    "                               q_lens=(0.2, 1., 0.01),\n",
    "                               center_x_lens=(-5, 5, 0.1),\n",
    "                               center_y_lens=(-5, 5, 0.1),\n",
    "                               x_source=(-5, 5, 0.1), \n",
    "                               y_source=(-5, 5, 0.1), \n",
    "                               amp_source=(5, 1000, 5),\n",
    "                               phi_source=(0, 90, 1), \n",
    "                               q_source=(0.2, 1., 0.01),\n",
    "                               R_sersic_source=(0.01, 2, 0.01),\n",
    "                               lens_galaxy=True\n",
    "                              )\n",
    "\n",
    "output = interactive_plot.children[-1]\n",
    "output.layout.height = '450px'\n",
    "interactive_plot"
   ]
  },
  {
   "cell_type": "markdown",
   "metadata": {},
   "source": [
    "## Demonstration of lens modeling by tuning parameters by hand"
   ]
  },
  {
   "cell_type": "code",
   "execution_count": 4,
   "metadata": {},
   "outputs": [],
   "source": [
    "# provide address of your input image file here\n",
    "file_name = 'lens_images/team_1_order_1.txt'"
   ]
  },
  {
   "cell_type": "code",
   "execution_count": 5,
   "metadata": {},
   "outputs": [],
   "source": [
    "input_image = np.loadtxt(file_name)\n",
    "\n",
    "temp_copy = copy.deepcopy(input_image)\n",
    "temp_copy[temp_copy < 0] = 1e-6\n",
    "noise = np.sqrt(temp_copy/300)\n",
    "noise = np.sqrt(noise**2 + 1.**2)\n",
    "\n",
    "\n",
    "def plot_model_fitting(\n",
    "    theta_E=1.,\n",
    "    gamma=2.,\n",
    "    phi_lens=180, \n",
    "    q_lens=0.5,\n",
    "    center_x_lens=0.,\n",
    "    center_y_lens=0.,\n",
    "    x_source=0.2, y_source=0.2, \n",
    "    amp_source=10,\n",
    "    phi_source=180, q_source=0.2,\n",
    "    R_sersic_source=0.2,\n",
    "    lens_galaxy=True):\n",
    "    \"\"\"\n",
    "    \"\"\"\n",
    "    image = make_lens_image(\n",
    "        theta_E,\n",
    "        gamma,\n",
    "        phi_lens, \n",
    "        q_lens,\n",
    "        center_x_lens,\n",
    "        center_y_lens,\n",
    "        x_source, y_source, \n",
    "        amp_source,\n",
    "        phi_source, q_source,\n",
    "        R_sersic_source,\n",
    "        lens_galaxy\n",
    "    )\n",
    "    \n",
    "    fig, axes = plt.subplots(1, 3, figsize=(15,5))\n",
    "\n",
    "    axes[0].matshow(np.log10(input_image), origin='lower', cmap='cubehelix', vmin=0)\n",
    "    axes[0].set_title('Data')\n",
    "    axes[0].set_aspect('equal')\n",
    "\n",
    "    axes[1].matshow(np.log10(image), origin='lower', cmap='cubehelix', vmin=0)\n",
    "    axes[1].set_title('Model')\n",
    "    #     axes[1].set_aspect('equal')\n",
    "\n",
    "    axes[2].matshow((input_image - image)/noise, vmin=-3, vmax=3, cmap='RdBu_r', origin='lower')\n",
    "    axes[2].set_title('Normalized residual, red. chi^2={:.2f}'.format(np.mean(((input_image - image)/noise)**2)))\n",
    "    #     axes[2].set_aspect('equal')\n",
    "        \n",
    "    plt.show()"
   ]
  },
  {
   "cell_type": "code",
   "execution_count": 6,
   "metadata": {},
   "outputs": [
    {
     "data": {
      "application/vnd.jupyter.widget-view+json": {
       "model_id": "a89836bea1624d30b0d31dcd5360a18a",
       "version_major": 2,
       "version_minor": 0
      },
      "text/plain": [
       "interactive(children=(FloatSlider(value=1.0, description='theta_E', max=3.0, min=0.02, step=0.02), FloatSlider…"
      ]
     },
     "execution_count": 6,
     "metadata": {},
     "output_type": "execute_result"
    }
   ],
   "source": [
    "interactive_plot = interactive(plot_model_fitting, \n",
    "                               theta_E=(0.02, 3., 0.02),\n",
    "                               gamma=(1.6, 2.4, 0.01),\n",
    "                               phi_lens=(0, 90, 1), \n",
    "                               q_lens=(0.2, 1., 0.01),\n",
    "                               center_x_lens=(-5, 5, 0.1),\n",
    "                               center_y_lens=(-5, 5, 0.1),\n",
    "                               x_source=(-5, 5, 0.1), \n",
    "                               y_source=(-5, 5, 0.1), \n",
    "                               amp_source=(5, 1000, 5),\n",
    "                               phi_source=(0, 90, 1), \n",
    "                               q_source=(0.2, 1., 0.01),\n",
    "                               R_sersic_source=(0.01, 2, 0.01),\n",
    "                               lens_galaxy=True\n",
    "                              )\n",
    "\n",
    "output = interactive_plot.children[-1]\n",
    "output.layout.height = '450px'\n",
    "interactive_plot\n"
   ]
  },
  {
   "cell_type": "code",
   "execution_count": null,
   "metadata": {},
   "outputs": [],
   "source": []
  }
 ],
 "metadata": {
  "kernelspec": {
   "display_name": "Python 3 (ipykernel)",
   "language": "python",
   "name": "python3"
  },
  "language_info": {
   "codemirror_mode": {
    "name": "ipython",
    "version": 3
   },
   "file_extension": ".py",
   "mimetype": "text/x-python",
   "name": "python",
   "nbconvert_exporter": "python",
   "pygments_lexer": "ipython3",
   "version": "3.10.9"
  }
 },
 "nbformat": 4,
 "nbformat_minor": 1
}
