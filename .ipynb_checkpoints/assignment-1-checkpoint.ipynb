{
 "cells": [
  {
   "cell_type": "code",
   "execution_count": 13,
   "id": "783615ea",
   "metadata": {},
   "outputs": [],
   "source": [
    "import numpy as np\n",
    "import random as rn\n",
    "import matplotlib.pyplot as plt"
   ]
  },
  {
   "cell_type": "code",
   "execution_count": 7,
   "id": "860e8f8c",
   "metadata": {},
   "outputs": [],
   "source": [
    "N_trial = 200\n",
    "H_probability = 0.5"
   ]
  },
  {
   "cell_type": "code",
   "execution_count": 26,
   "id": "a1590ec7",
   "metadata": {},
   "outputs": [],
   "source": [
    "def experiment(N, p_head):\n",
    "    num_head = 0\n",
    "    for i in range(N):\n",
    "        if rn.random() <= p_head:\n",
    "            num_head += 1\n",
    "    return num_head"
   ]
  },
  {
   "cell_type": "code",
   "execution_count": 10,
   "id": "6c876176",
   "metadata": {},
   "outputs": [
    {
     "data": {
      "text/plain": [
       "101"
      ]
     },
     "execution_count": 10,
     "metadata": {},
     "output_type": "execute_result"
    }
   ],
   "source": [
    "a = experiment(N_trial)\n"
   ]
  },
  {
   "cell_type": "code",
   "execution_count": 11,
   "id": "b0e0bbec",
   "metadata": {},
   "outputs": [],
   "source": [
    "num_exp = 1000\n",
    "N_head_data = []\n",
    "for i in range(num_exp):\n",
    "    N_head_data.append(experiment(N_trial))"
   ]
  },
  {
   "cell_type": "code",
   "execution_count": null,
   "id": "597b4b04",
   "metadata": {},
   "outputs": [],
   "source": [
    "N_head_data"
   ]
  },
  {
   "cell_type": "code",
   "execution_count": 21,
   "id": "e366aea7",
   "metadata": {},
   "outputs": [
    {
     "data": {
      "text/plain": [
       "(array([ 0.,  0.,  0.,  0.,  0.,  0.,  0.,  0.,  0.,  0.,  0.,  0.,  0.,\n",
       "         0.,  0.,  0.,  0.,  0.,  0.,  0.,  0.,  0.,  0.,  0.,  0.,  0.,\n",
       "         0.,  0.,  0.,  0.,  0.,  0.,  0.,  0.,  0.,  0.,  0.,  0.,  0.,\n",
       "         0.,  0.,  0.,  0.,  0.,  0.,  0.,  0.,  0.,  0.,  0.,  0.,  0.,\n",
       "         0.,  0.,  0.,  0.,  0.,  0.,  0.,  0.,  0.,  0.,  0.,  0.,  0.,\n",
       "         0.,  0.,  0.,  0.,  0.,  0.,  0.,  0.,  0.,  0.,  0.,  1.,  0.,\n",
       "         1.,  3.,  0.,  2.,  1.,  2.,  4.,  7.,  9., 11., 13., 20., 13.,\n",
       "        28., 36., 43., 30., 40., 48., 60., 42., 53., 67., 45., 54., 59.,\n",
       "        46., 40., 35., 40., 44., 27., 23., 10., 11.,  7.,  7.,  4.,  6.,\n",
       "         5.,  2.,  0.,  0.,  1.,  0.,  0.,  0.,  0.,  0.,  0.,  0.,  0.,\n",
       "         0.,  0.,  0.,  0.,  0.,  0.,  0.,  0.,  0.,  0.,  0.,  0.,  0.,\n",
       "         0.,  0.,  0.,  0.,  0.,  0.,  0.,  0.,  0.,  0.,  0.,  0.,  0.,\n",
       "         0.,  0.,  0.,  0.,  0.,  0.,  0.,  0.,  0.,  0.,  0.,  0.,  0.,\n",
       "         0.,  0.,  0.,  0.,  0.,  0.,  0.,  0.,  0.,  0.,  0.,  0.,  0.,\n",
       "         0.,  0.,  0.,  0.,  0.,  0.,  0.,  0.,  0.,  0.,  0.,  0.,  0.,\n",
       "         0.,  0.,  0.,  0.,  0.]),\n",
       " array([  0.,   1.,   2.,   3.,   4.,   5.,   6.,   7.,   8.,   9.,  10.,\n",
       "         11.,  12.,  13.,  14.,  15.,  16.,  17.,  18.,  19.,  20.,  21.,\n",
       "         22.,  23.,  24.,  25.,  26.,  27.,  28.,  29.,  30.,  31.,  32.,\n",
       "         33.,  34.,  35.,  36.,  37.,  38.,  39.,  40.,  41.,  42.,  43.,\n",
       "         44.,  45.,  46.,  47.,  48.,  49.,  50.,  51.,  52.,  53.,  54.,\n",
       "         55.,  56.,  57.,  58.,  59.,  60.,  61.,  62.,  63.,  64.,  65.,\n",
       "         66.,  67.,  68.,  69.,  70.,  71.,  72.,  73.,  74.,  75.,  76.,\n",
       "         77.,  78.,  79.,  80.,  81.,  82.,  83.,  84.,  85.,  86.,  87.,\n",
       "         88.,  89.,  90.,  91.,  92.,  93.,  94.,  95.,  96.,  97.,  98.,\n",
       "         99., 100., 101., 102., 103., 104., 105., 106., 107., 108., 109.,\n",
       "        110., 111., 112., 113., 114., 115., 116., 117., 118., 119., 120.,\n",
       "        121., 122., 123., 124., 125., 126., 127., 128., 129., 130., 131.,\n",
       "        132., 133., 134., 135., 136., 137., 138., 139., 140., 141., 142.,\n",
       "        143., 144., 145., 146., 147., 148., 149., 150., 151., 152., 153.,\n",
       "        154., 155., 156., 157., 158., 159., 160., 161., 162., 163., 164.,\n",
       "        165., 166., 167., 168., 169., 170., 171., 172., 173., 174., 175.,\n",
       "        176., 177., 178., 179., 180., 181., 182., 183., 184., 185., 186.,\n",
       "        187., 188., 189., 190., 191., 192., 193., 194., 195., 196., 197.,\n",
       "        198., 199., 200.]),\n",
       " <BarContainer object of 200 artists>)"
      ]
     },
     "execution_count": 21,
     "metadata": {},
     "output_type": "execute_result"
    },
    {
     "data": {
      "image/png": "[encoded data removed]",
      "text/plain": [
       "<Figure size 640x480 with 1 Axes>"
      ]
     },
     "metadata": {},
     "output_type": "display_data"
    }
   ],
   "source": [
    "plt.hist(N_head_data, bins = 200, range=[0,200])"
   ]
  },
  {
   "cell_type": "code",
   "execution_count": 24,
   "id": "3e886f43",
   "metadata": {},
   "outputs": [
    {
     "data": {
      "text/plain": [
       "99.885"
      ]
     },
     "execution_count": 24,
     "metadata": {},
     "output_type": "execute_result"
    }
   ],
   "source": [
    "np.mean(N_head_data)"
   ]
  },
  {
   "cell_type": "code",
   "execution_count": 25,
   "id": "d10ddd61",
   "metadata": {},
   "outputs": [
    {
     "data": {
      "text/plain": [
       "7.033190954325071"
      ]
     },
     "execution_count": 25,
     "metadata": {},
     "output_type": "execute_result"
    }
   ],
   "source": [
    "np.std(N_head_data)"
   ]
  },
  {
   "cell_type": "code",
   "execution_count": 27,
   "id": "01678dcf",
   "metadata": {},
   "outputs": [],
   "source": [
    "num_exp_poisson = 1000\n",
    "N_trial_poisson = 100000\n",
    "p_head = 0.1\n",
    "H_data = []\n",
    "\n",
    "for i in range(num_exp_poisson):\n",
    "    H_data.append(experiment(N_trial_poisson, p_head))"
   ]
  },
  {
   "cell_type": "code",
   "execution_count": 31,
   "id": "650a6703",
   "metadata": {},
   "outputs": [
    {
     "data": {
      "text/plain": [
       "1000"
      ]
     },
     "execution_count": 31,
     "metadata": {},
     "output_type": "execute_result"
    }
   ],
   "source": [
    "len(H_data)"
   ]
  },
  {
   "cell_type": "code",
   "execution_count": 36,
   "id": "942751ef",
   "metadata": {},
   "outputs": [
    {
     "data": {
      "text/plain": [
       "(array([  3.,  14.,  43., 124., 221., 256., 189., 108.,  33.,   9.]),\n",
       " array([ 9674. ,  9734.5,  9795. ,  9855.5,  9916. ,  9976.5, 10037. ,\n",
       "        10097.5, 10158. , 10218.5, 10279. ]),\n",
       " <BarContainer object of 10 artists>)"
      ]
     },
     "execution_count": 36,
     "metadata": {},
     "output_type": "execute_result"
    },
    {
     "data": {
      "image/png": "[encoded data removed]",
      "text/plain": [
       "<Figure size 640x480 with 1 Axes>"
      ]
     },
     "metadata": {},
     "output_type": "display_data"
    }
   ],
   "source": [
    "plt.hist(H_data)"
   ]
  },
  {
   "cell_type": "code",
   "execution_count": 38,
   "id": "561f175f",
   "metadata": {},
   "outputs": [
    {
     "data": {
      "text/plain": [
       "9998.53"
      ]
     },
     "execution_count": 38,
     "metadata": {},
     "output_type": "execute_result"
    }
   ],
   "source": [
    "np.mean(H_data)"
   ]
  },
  {
   "cell_type": "code",
   "execution_count": 39,
   "id": "0bb48734",
   "metadata": {},
   "outputs": [
    {
     "data": {
      "text/plain": [
       "93.35474867407655"
      ]
     },
     "execution_count": 39,
     "metadata": {},
     "output_type": "execute_result"
    }
   ],
   "source": [
    "np.std(H_data)"
   ]
  },
  {
   "cell_type": "code",
   "execution_count": null,
   "id": "9535cbdb",
   "metadata": {},
   "outputs": [],
   "source": []
  }
 ],
 "metadata": {
  "kernelspec": {
   "display_name": "Python 3 (ipykernel)",
   "language": "python",
   "name": "python3"
  },
  "language_info": {
   "codemirror_mode": {
    "name": "ipython",
    "version": 3
   },
   "file_extension": ".py",
   "mimetype": "text/x-python",
   "name": "python",
   "nbconvert_exporter": "python",
   "pygments_lexer": "ipython3",
   "version": "3.10.9"
  }
 },
 "nbformat": 4,
 "nbformat_minor": 5
}
